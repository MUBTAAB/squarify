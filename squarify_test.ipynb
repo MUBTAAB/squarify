{
 "cells": [
  {
   "cell_type": "code",
   "execution_count": 27,
   "metadata": {},
   "outputs": [],
   "source": [
    "import squarify\n",
    "import pandas as pd"
   ]
  },
  {
   "cell_type": "code",
   "execution_count": 28,
   "metadata": {},
   "outputs": [],
   "source": [
    "df = pd.DataFrame({'group':['a','a','b','b'], 'value':[200,100,150,150]})\n",
    "df = df.sort_values('group')\n",
    "grp = df.groupby('group')['value'].sum()"
   ]
  },
  {
   "cell_type": "code",
   "execution_count": 29,
   "metadata": {},
   "outputs": [],
   "source": [
    "x = 0.\n",
    "y = 0.\n",
    "width = 100.\n",
    "height = 100.\n",
    "\n",
    "values = grp.values\n",
    "\n",
    "normed = squarify.normalize_sizes(values, width, height)\n",
    "rects = squarify.squarify(normed, x, y, width, height)"
   ]
  },
  {
   "cell_type": "code",
   "execution_count": 30,
   "metadata": {},
   "outputs": [
    {
     "data": {
      "text/plain": [
       "[{'dx': 100.0, 'dy': 50.0, 'x': 0.0, 'y': 0.0},\n",
       " {'dx': 100.0, 'dy': 50.0, 'x': 0.0, 'y': 50.0}]"
      ]
     },
     "execution_count": 30,
     "metadata": {},
     "output_type": "execute_result"
    }
   ],
   "source": [
    "rects"
   ]
  },
  {
   "cell_type": "code",
   "execution_count": 31,
   "metadata": {},
   "outputs": [],
   "source": [
    "subrects = []\n",
    "for group, rect in zip(set(df['group']), rects):\n",
    "    dff = df[df['group'] == group]['value']\n",
    "    \n",
    "    x = rect['x']\n",
    "    y = rect['y']\n",
    "    width = rect['dx']\n",
    "    height = rect['dy']\n",
    "\n",
    "    values = dff.values\n",
    "\n",
    "    normed = squarify.normalize_sizes(values, width, height)\n",
    "    rectgroup = squarify.padded_squarify(normed, x, y, width, height)\n",
    "    \n",
    "    subrects += rectgroup"
   ]
  },
  {
   "cell_type": "code",
   "execution_count": 32,
   "metadata": {},
   "outputs": [
    {
     "data": {
      "text/plain": [
       "[{'dx': 48.0, 'dy': 48.0, 'x': 1.0, 'y': 1.0},\n",
       " {'dx': 48.0, 'dy': 48.0, 'x': 51.0, 'y': 1.0},\n",
       " {'dx': 64.66666666666667, 'dy': 48.0, 'x': 1.0, 'y': 51.0},\n",
       " {'dx': 31.33333333333333,\n",
       "  'dy': 48.00000000000001,\n",
       "  'x': 67.66666666666667,\n",
       "  'y': 51.0}]"
      ]
     },
     "execution_count": 32,
     "metadata": {},
     "output_type": "execute_result"
    }
   ],
   "source": [
    "subrects"
   ]
  },
  {
   "cell_type": "code",
   "execution_count": 33,
   "metadata": {},
   "outputs": [],
   "source": [
    "def plotly_squares(rects, values):\n",
    "    import plotly\n",
    "    import plotly.graph_objs as go\n",
    "    plotly.offline.init_notebook_mode(connected=True)\n",
    "    \n",
    "    color_brewer = ['rgb(166,206,227)','rgb(31,120,180)','rgb(178,223,138)',\n",
    "                'rgb(51,160,44)','rgb(251,154,153)','rgb(227,26,28)']\n",
    "    \n",
    "    shapes = []\n",
    "    annotations = []\n",
    "    counter = 0\n",
    "\n",
    "    for r in rects:\n",
    "        shapes.append( \n",
    "            dict(\n",
    "                type = 'rect', \n",
    "                x0 = r['x'], \n",
    "                y0 = r['y'], \n",
    "                x1 = r['x']+r['dx'], \n",
    "                y1 = r['y']+r['dy'],\n",
    "                line = dict( width = 2 ),\n",
    "                fillcolor = color_brewer[counter]\n",
    "            ) \n",
    "        )\n",
    "        \n",
    "        annotations.append(\n",
    "            dict(\n",
    "                x = r['x']+(r['dx']/2),\n",
    "                y = r['y']+(r['dy']/2),\n",
    "                text = values[counter],\n",
    "                showarrow = False\n",
    "            )\n",
    "        )\n",
    "        counter = counter + 1\n",
    "        if counter >= len(color_brewer):\n",
    "            counter = 0\n",
    "\n",
    "    # For hover text\n",
    "    trace0 = go.Scatter(\n",
    "        x = [ r['x']+(r['dx']/2) for r in rects ], \n",
    "        y = [ r['y']+(r['dy']/2) for r in rects ],\n",
    "        text = [ str(v) for v in values ], \n",
    "        mode = 'text',\n",
    "    )\n",
    "\n",
    "    layout = dict(\n",
    "        height=700, \n",
    "        width=700,\n",
    "        xaxis=dict(showgrid=False,zeroline=False),\n",
    "        yaxis=dict(showgrid=False,zeroline=False),\n",
    "        shapes=shapes,\n",
    "        annotations=annotations,\n",
    "        hovermode='closest'\n",
    "    )\n",
    "    \n",
    "\n",
    "    figure = dict(data=[trace0], layout=layout)\n",
    "\n",
    "    plotly.offline.iplot(figure, filename='squarify-treemap')"
   ]
  },
  {
   "cell_type": "code",
   "execution_count": 34,
   "metadata": {},
   "outputs": [
    {
     "data": {
      "text/html": [
       "<script>requirejs.config({paths: { 'plotly': ['https://cdn.plot.ly/plotly-latest.min']},});if(!window.Plotly) {{require(['plotly'],function(plotly) {window.Plotly=plotly;});}}</script>"
      ],
      "text/vnd.plotly.v1+html": [
       "<script>requirejs.config({paths: { 'plotly': ['https://cdn.plot.ly/plotly-latest.min']},});if(!window.Plotly) {{require(['plotly'],function(plotly) {window.Plotly=plotly;});}}</script>"
      ]
     },
     "metadata": {},
     "output_type": "display_data"
    },
    {
     "data": {
      "application/vnd.plotly.v1+json": {
       "data": [
        {
         "mode": "text",
         "text": [
          "300",
          "300"
         ],
         "type": "scatter",
         "x": [
          50,
          50
         ],
         "y": [
          25,
          75
         ]
        }
       ],
       "layout": {
        "annotations": [
         {
          "showarrow": false,
          "text": 300,
          "x": 50,
          "y": 25
         },
         {
          "showarrow": false,
          "text": 300,
          "x": 50,
          "y": 75
         }
        ],
        "height": 700,
        "hovermode": "closest",
        "shapes": [
         {
          "fillcolor": "rgb(166,206,227)",
          "line": {
           "width": 2
          },
          "type": "rect",
          "x0": 0,
          "x1": 100,
          "y0": 0,
          "y1": 50
         },
         {
          "fillcolor": "rgb(31,120,180)",
          "line": {
           "width": 2
          },
          "type": "rect",
          "x0": 0,
          "x1": 100,
          "y0": 50,
          "y1": 100
         }
        ],
        "width": 700,
        "xaxis": {
         "showgrid": false,
         "zeroline": false
        },
        "yaxis": {
         "showgrid": false,
         "zeroline": false
        }
       }
      },
      "text/html": [
       "<div id=\"76a36205-23b1-45ad-83c9-d8f6ededa016\" style=\"height: 700px; width: 700px;\" class=\"plotly-graph-div\"></div><script type=\"text/javascript\">require([\"plotly\"], function(Plotly) { window.PLOTLYENV=window.PLOTLYENV || {};window.PLOTLYENV.BASE_URL=\"https://plot.ly\";Plotly.newPlot(\"76a36205-23b1-45ad-83c9-d8f6ededa016\", [{\"type\": \"scatter\", \"x\": [50.0, 50.0], \"y\": [25.0, 75.0], \"text\": [\"300\", \"300\"], \"mode\": \"text\"}], {\"height\": 700, \"width\": 700, \"xaxis\": {\"showgrid\": false, \"zeroline\": false}, \"yaxis\": {\"showgrid\": false, \"zeroline\": false}, \"shapes\": [{\"type\": \"rect\", \"x0\": 0.0, \"y0\": 0.0, \"x1\": 100.0, \"y1\": 50.0, \"line\": {\"width\": 2}, \"fillcolor\": \"rgb(166,206,227)\"}, {\"type\": \"rect\", \"x0\": 0.0, \"y0\": 50.0, \"x1\": 100.0, \"y1\": 100.0, \"line\": {\"width\": 2}, \"fillcolor\": \"rgb(31,120,180)\"}], \"annotations\": [{\"x\": 50.0, \"y\": 25.0, \"text\": 300, \"showarrow\": false}, {\"x\": 50.0, \"y\": 75.0, \"text\": 300, \"showarrow\": false}], \"hovermode\": \"closest\"}, {\"showLink\": true, \"linkText\": \"Export to plot.ly\"})});</script>"
      ],
      "text/vnd.plotly.v1+html": [
       "<div id=\"76a36205-23b1-45ad-83c9-d8f6ededa016\" style=\"height: 700px; width: 700px;\" class=\"plotly-graph-div\"></div><script type=\"text/javascript\">require([\"plotly\"], function(Plotly) { window.PLOTLYENV=window.PLOTLYENV || {};window.PLOTLYENV.BASE_URL=\"https://plot.ly\";Plotly.newPlot(\"76a36205-23b1-45ad-83c9-d8f6ededa016\", [{\"type\": \"scatter\", \"x\": [50.0, 50.0], \"y\": [25.0, 75.0], \"text\": [\"300\", \"300\"], \"mode\": \"text\"}], {\"height\": 700, \"width\": 700, \"xaxis\": {\"showgrid\": false, \"zeroline\": false}, \"yaxis\": {\"showgrid\": false, \"zeroline\": false}, \"shapes\": [{\"type\": \"rect\", \"x0\": 0.0, \"y0\": 0.0, \"x1\": 100.0, \"y1\": 50.0, \"line\": {\"width\": 2}, \"fillcolor\": \"rgb(166,206,227)\"}, {\"type\": \"rect\", \"x0\": 0.0, \"y0\": 50.0, \"x1\": 100.0, \"y1\": 100.0, \"line\": {\"width\": 2}, \"fillcolor\": \"rgb(31,120,180)\"}], \"annotations\": [{\"x\": 50.0, \"y\": 25.0, \"text\": 300, \"showarrow\": false}, {\"x\": 50.0, \"y\": 75.0, \"text\": 300, \"showarrow\": false}], \"hovermode\": \"closest\"}, {\"showLink\": true, \"linkText\": \"Export to plot.ly\"})});</script>"
      ]
     },
     "metadata": {},
     "output_type": "display_data"
    }
   ],
   "source": [
    "plotly_squares(rects, values = grp.values)"
   ]
  },
  {
   "cell_type": "code",
   "execution_count": 35,
   "metadata": {},
   "outputs": [
    {
     "data": {
      "text/html": [
       "<script>requirejs.config({paths: { 'plotly': ['https://cdn.plot.ly/plotly-latest.min']},});if(!window.Plotly) {{require(['plotly'],function(plotly) {window.Plotly=plotly;});}}</script>"
      ],
      "text/vnd.plotly.v1+html": [
       "<script>requirejs.config({paths: { 'plotly': ['https://cdn.plot.ly/plotly-latest.min']},});if(!window.Plotly) {{require(['plotly'],function(plotly) {window.Plotly=plotly;});}}</script>"
      ]
     },
     "metadata": {},
     "output_type": "display_data"
    },
    {
     "data": {
      "application/vnd.plotly.v1+json": {
       "data": [
        {
         "mode": "text",
         "text": [
          "200",
          "100",
          "150",
          "150"
         ],
         "type": "scatter",
         "x": [
          25,
          75,
          33.333333333333336,
          83.33333333333334
         ],
         "y": [
          25,
          25,
          75,
          75
         ]
        }
       ],
       "layout": {
        "annotations": [
         {
          "showarrow": false,
          "text": 200,
          "x": 25,
          "y": 25
         },
         {
          "showarrow": false,
          "text": 100,
          "x": 75,
          "y": 25
         },
         {
          "showarrow": false,
          "text": 150,
          "x": 33.333333333333336,
          "y": 75
         },
         {
          "showarrow": false,
          "text": 150,
          "x": 83.33333333333334,
          "y": 75
         }
        ],
        "height": 700,
        "hovermode": "closest",
        "shapes": [
         {
          "fillcolor": "rgb(166,206,227)",
          "line": {
           "width": 2
          },
          "type": "rect",
          "x0": 1,
          "x1": 49,
          "y0": 1,
          "y1": 49
         },
         {
          "fillcolor": "rgb(31,120,180)",
          "line": {
           "width": 2
          },
          "type": "rect",
          "x0": 51,
          "x1": 99,
          "y0": 1,
          "y1": 49
         },
         {
          "fillcolor": "rgb(178,223,138)",
          "line": {
           "width": 2
          },
          "type": "rect",
          "x0": 1,
          "x1": 65.66666666666667,
          "y0": 51,
          "y1": 99
         },
         {
          "fillcolor": "rgb(51,160,44)",
          "line": {
           "width": 2
          },
          "type": "rect",
          "x0": 67.66666666666667,
          "x1": 99,
          "y0": 51,
          "y1": 99
         }
        ],
        "width": 700,
        "xaxis": {
         "showgrid": false,
         "zeroline": false
        },
        "yaxis": {
         "showgrid": false,
         "zeroline": false
        }
       }
      },
      "text/html": [
       "<div id=\"4a78cb60-48d3-4340-83bb-be5f0939bf7f\" style=\"height: 700px; width: 700px;\" class=\"plotly-graph-div\"></div><script type=\"text/javascript\">require([\"plotly\"], function(Plotly) { window.PLOTLYENV=window.PLOTLYENV || {};window.PLOTLYENV.BASE_URL=\"https://plot.ly\";Plotly.newPlot(\"4a78cb60-48d3-4340-83bb-be5f0939bf7f\", [{\"type\": \"scatter\", \"x\": [25.0, 75.0, 33.333333333333336, 83.33333333333334], \"y\": [25.0, 25.0, 75.0, 75.0], \"text\": [\"200\", \"100\", \"150\", \"150\"], \"mode\": \"text\"}], {\"height\": 700, \"width\": 700, \"xaxis\": {\"showgrid\": false, \"zeroline\": false}, \"yaxis\": {\"showgrid\": false, \"zeroline\": false}, \"shapes\": [{\"type\": \"rect\", \"x0\": 1.0, \"y0\": 1.0, \"x1\": 49.0, \"y1\": 49.0, \"line\": {\"width\": 2}, \"fillcolor\": \"rgb(166,206,227)\"}, {\"type\": \"rect\", \"x0\": 51.0, \"y0\": 1.0, \"x1\": 99.0, \"y1\": 49.0, \"line\": {\"width\": 2}, \"fillcolor\": \"rgb(31,120,180)\"}, {\"type\": \"rect\", \"x0\": 1.0, \"y0\": 51.0, \"x1\": 65.66666666666667, \"y1\": 99.0, \"line\": {\"width\": 2}, \"fillcolor\": \"rgb(178,223,138)\"}, {\"type\": \"rect\", \"x0\": 67.66666666666667, \"y0\": 51.0, \"x1\": 99.0, \"y1\": 99.0, \"line\": {\"width\": 2}, \"fillcolor\": \"rgb(51,160,44)\"}], \"annotations\": [{\"x\": 25.0, \"y\": 25.0, \"text\": 200, \"showarrow\": false}, {\"x\": 75.0, \"y\": 25.0, \"text\": 100, \"showarrow\": false}, {\"x\": 33.333333333333336, \"y\": 75.0, \"text\": 150, \"showarrow\": false}, {\"x\": 83.33333333333334, \"y\": 75.0, \"text\": 150, \"showarrow\": false}], \"hovermode\": \"closest\"}, {\"showLink\": true, \"linkText\": \"Export to plot.ly\"})});</script>"
      ],
      "text/vnd.plotly.v1+html": [
       "<div id=\"4a78cb60-48d3-4340-83bb-be5f0939bf7f\" style=\"height: 700px; width: 700px;\" class=\"plotly-graph-div\"></div><script type=\"text/javascript\">require([\"plotly\"], function(Plotly) { window.PLOTLYENV=window.PLOTLYENV || {};window.PLOTLYENV.BASE_URL=\"https://plot.ly\";Plotly.newPlot(\"4a78cb60-48d3-4340-83bb-be5f0939bf7f\", [{\"type\": \"scatter\", \"x\": [25.0, 75.0, 33.333333333333336, 83.33333333333334], \"y\": [25.0, 25.0, 75.0, 75.0], \"text\": [\"200\", \"100\", \"150\", \"150\"], \"mode\": \"text\"}], {\"height\": 700, \"width\": 700, \"xaxis\": {\"showgrid\": false, \"zeroline\": false}, \"yaxis\": {\"showgrid\": false, \"zeroline\": false}, \"shapes\": [{\"type\": \"rect\", \"x0\": 1.0, \"y0\": 1.0, \"x1\": 49.0, \"y1\": 49.0, \"line\": {\"width\": 2}, \"fillcolor\": \"rgb(166,206,227)\"}, {\"type\": \"rect\", \"x0\": 51.0, \"y0\": 1.0, \"x1\": 99.0, \"y1\": 49.0, \"line\": {\"width\": 2}, \"fillcolor\": \"rgb(31,120,180)\"}, {\"type\": \"rect\", \"x0\": 1.0, \"y0\": 51.0, \"x1\": 65.66666666666667, \"y1\": 99.0, \"line\": {\"width\": 2}, \"fillcolor\": \"rgb(178,223,138)\"}, {\"type\": \"rect\", \"x0\": 67.66666666666667, \"y0\": 51.0, \"x1\": 99.0, \"y1\": 99.0, \"line\": {\"width\": 2}, \"fillcolor\": \"rgb(51,160,44)\"}], \"annotations\": [{\"x\": 25.0, \"y\": 25.0, \"text\": 200, \"showarrow\": false}, {\"x\": 75.0, \"y\": 25.0, \"text\": 100, \"showarrow\": false}, {\"x\": 33.333333333333336, \"y\": 75.0, \"text\": 150, \"showarrow\": false}, {\"x\": 83.33333333333334, \"y\": 75.0, \"text\": 150, \"showarrow\": false}], \"hovermode\": \"closest\"}, {\"showLink\": true, \"linkText\": \"Export to plot.ly\"})});</script>"
      ]
     },
     "metadata": {},
     "output_type": "display_data"
    }
   ],
   "source": [
    "plotly_squares(subrects, values = df['value'].values)"
   ]
  },
  {
   "cell_type": "code",
   "execution_count": null,
   "metadata": {},
   "outputs": [],
   "source": []
  }
 ],
 "metadata": {
  "kernelspec": {
   "display_name": "Python 3",
   "language": "python",
   "name": "python3"
  },
  "language_info": {
   "codemirror_mode": {
    "name": "ipython",
    "version": 3
   },
   "file_extension": ".py",
   "mimetype": "text/x-python",
   "name": "python",
   "nbconvert_exporter": "python",
   "pygments_lexer": "ipython3",
   "version": "3.6.4"
  }
 },
 "nbformat": 4,
 "nbformat_minor": 2
}
